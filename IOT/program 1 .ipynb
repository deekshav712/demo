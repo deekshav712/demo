{
 "cells": [
  {
   "cell_type": "code",
   "execution_count": 1,
   "id": "5177d686",
   "metadata": {},
   "outputs": [
    {
     "name": "stdout",
     "output_type": "stream",
     "text": [
      "Enter your name :Alien\n",
      "hello Alien\n"
     ]
    }
   ],
   "source": [
    "#(1a)Read your name and print Hello message with name.\n",
    "\n",
    "name = input(\"Enter your name :\")\n",
    "print(\"hello\", name)"
   ]
  },
  {
   "cell_type": "code",
   "execution_count": 2,
   "id": "9065b426",
   "metadata": {},
   "outputs": [
    {
     "name": "stdout",
     "output_type": "stream",
     "text": [
      "Enter the first number:7\n",
      "Enter the second number:6\n",
      "The addition of two numbers : 13\n",
      "The division of two numbers : 1.1666666666666667\n",
      "The substraction of two numbers : 1\n",
      "The multiplication of two numbers : 42\n"
     ]
    }
   ],
   "source": [
    "#(1b) Read two numbers and print their sum, difference, product and division\n",
    "\n",
    "a = int(input(\"Enter the first number:\"))\n",
    "b = int(input(\"Enter the second number:\"))\n",
    "\n",
    "print(\"The addition of two numbers :\",a+b)\n",
    "print(\"The division of two numbers :\",a/b)\n",
    "print(\"The substraction of two numbers :\",a-b)\n",
    "print(\"The multiplication of two numbers :\",a*b)"
   ]
  },
  {
   "cell_type": "code",
   "execution_count": 3,
   "id": "a8e4208c",
   "metadata": {},
   "outputs": [
    {
     "name": "stdout",
     "output_type": "stream",
     "text": [
      "Enter the sentence :Am an Alien\n",
      "Total number of words in the sentence : 3\n",
      "Total number of character in the sentence with space : 11\n",
      "Total number of character in the sentence without space: 9\n"
     ]
    }
   ],
   "source": [
    "# (1c)Word and character count of a given string\n",
    "\n",
    "x = input(\"Enter the sentence :\")\n",
    "y = x.split()\n",
    "\n",
    "print(\"Total number of words in the sentence :\",len(y))\n",
    "print(\"Total number of character in the sentence with space :\",len(x))\n",
    "\n",
    "if(len(x)==0):\n",
    "    print(\"Total number of character in the sentence without space:\",len(x)-len(y))\n",
    "else:\n",
    "    print(\"Total number of character in the sentence without space:\",len(x)-len(y)+1)"
   ]
  },
  {
   "cell_type": "code",
   "execution_count": 8,
   "id": "f8f62eb6",
   "metadata": {},
   "outputs": [
    {
     "name": "stdout",
     "output_type": "stream",
     "text": [
      "************************************************************\n",
      "Select the shape to calculate the area\n",
      "1.rectangle 2.triangle 3.circle 4.exit\n",
      "1\n",
      "Enter the height of the rectangle :4\n",
      "Enter the weight of the rectangle :2\n",
      "The area of rectangle is  8 Square meters\n",
      "************************************************************\n",
      "Select the shape to calculate the area\n",
      "1.rectangle 2.triangle 3.circle 4.exit\n",
      "2\n",
      "Enter the base of traingle :4\n",
      "Enter the height of triangle :5\n",
      "The area of triangle is  10.0\n",
      "************************************************************\n",
      "Select the shape to calculate the area\n",
      "1.rectangle 2.triangle 3.circle 4.exit\n",
      "3\n",
      "Enter the radius of the circle :6\n",
      "The area of circle is  113.03999999999999\n",
      "************************************************************\n",
      "Select the shape to calculate the area\n",
      "1.rectangle 2.triangle 3.circle 4.exit\n",
      "4\n"
     ]
    }
   ],
   "source": [
    "# (1d)Area of a given shape (rectangle, triangle and circle) reading shape and appropriate values from standard input.\n",
    "\n",
    "while True:\n",
    "    print(\"************************************************************\")\n",
    "    print(\"Select the shape to calculate the area\")\n",
    "    print(\"\"\"1.rectangle 2.triangle 3.circle 4.exit\"\"\")\n",
    "    choice = input()\n",
    "    if(choice=='1'):\n",
    "        height = int(input(\"Enter the height of the rectangle :\"))\n",
    "        weight = int(input(\"Enter the weight of the rectangle :\"))\n",
    "        print(\"The area of rectangle is \",height*weight,\"Square meters\")\n",
    "        continue\n",
    "    elif(choice=='2'):\n",
    "        base = int(input(\"Enter the base of traingle :\"))\n",
    "        height = int(input(\"Enter the height of triangle :\"))\n",
    "        print(\"The area of triangle is \",0.5*base*height)\n",
    "        continue\n",
    "    elif(choice=='3'):\n",
    "        radius = int(input(\"Enter the radius of the circle :\"))\n",
    "        print(\"The area of circle is \",3.14*radius*radius)\n",
    "        continue\n",
    "    elif(choice=='4'):\n",
    "        break\n",
    "    else:\n",
    "        print(\"Enter the integer value \")"
   ]
  },
  {
   "cell_type": "code",
   "execution_count": 12,
   "id": "96c98bb8",
   "metadata": {},
   "outputs": [
    {
     "name": "stdout",
     "output_type": "stream",
     "text": [
      "************************************************************\n",
      "Select the loop to print the name\n",
      "1.for loop 2.while loop 3.exit\n",
      "1\n",
      "Enter your name :Alien\n",
      "Enter the n value :6\n",
      "Alien\n",
      "Alien\n",
      "Alien\n",
      "Alien\n",
      "Alien\n",
      "Alien\n",
      "************************************************************\n",
      "Select the loop to print the name\n",
      "1.for loop 2.while loop 3.exit\n",
      "2\n",
      "Enter your name :Planet\n",
      "Enter the n value :3\n",
      "Planet\n",
      "Planet\n",
      "Planet\n",
      "************************************************************\n",
      "Select the loop to print the name\n",
      "1.for loop 2.while loop 3.exit\n",
      "3\n"
     ]
    }
   ],
   "source": [
    "# (1e) Print a name ‘n’ times, where name and n are read from standard input, using for and while loops.\n",
    "\n",
    "while True:\n",
    "    print(\"************************************************************\")\n",
    "    print(\"Select the loop to print the name\")\n",
    "    print(\"\"\"1.for loop 2.while loop 3.exit\"\"\")\n",
    "    choice = input()\n",
    "    if(choice=='1'):\n",
    "        name = input(\"Enter your name :\")\n",
    "        n = int(input(\"Enter the n value :\"))\n",
    "        for i in range(n):\n",
    "            print(name)\n",
    "            continue\n",
    "    elif(choice=='2'):\n",
    "        name = input(\"Enter your name :\")\n",
    "        n = int(input(\"Enter the n value :\"))\n",
    "        i = 1\n",
    "        while i<=n:\n",
    "            print(name)\n",
    "            i+=1\n",
    "            continue\n",
    "    elif(choice=='3'):\n",
    "        break"
   ]
  },
  {
   "cell_type": "code",
   "execution_count": 16,
   "id": "549351d9",
   "metadata": {},
   "outputs": [
    {
     "name": "stdout",
     "output_type": "stream",
     "text": [
      "Enter the first value :6\n",
      "Enter the second value :0\n",
      "Can't divide by zero\n"
     ]
    }
   ],
   "source": [
    "#(1f)Handle Divided by Zero Exception. \n",
    "\n",
    "try:\n",
    "    num1 = int(input(\"Enter the first value :\"))\n",
    "    num2 = int(input(\"Enter the second value :\"))\n",
    "\n",
    "    result = num1//num2\n",
    "    print(\"Result :\",result)\n",
    "    \n",
    "except ZeroDivisionError:\n",
    "    print(\"Can't divide by zero\")\n",
    "except ValueError:\n",
    "    print(\"Enter the integer value\")"
   ]
  },
  {
   "cell_type": "code",
   "execution_count": 17,
   "id": "6107bb4b",
   "metadata": {},
   "outputs": [
    {
     "name": "stdout",
     "output_type": "stream",
     "text": [
      "23 1 28\n",
      "23 1 38\n",
      "23 1 48\n",
      "23 1 58\n",
      "23 2 8\n",
      "23 2 18\n",
      "23 2 28\n",
      "23 2 38\n",
      "23 2 48\n",
      "23 2 58\n"
     ]
    }
   ],
   "source": [
    "#(1g)Print current time for 10 times with an interval of 10 seconds.\n",
    "\n",
    "import time\n",
    "\n",
    "for i  in range(10):\n",
    "    d = time.localtime()\n",
    "    time.sleep(10)\n",
    "    print(d.tm_hour,d.tm_min,d.tm_sec)"
   ]
  },
  {
   "cell_type": "code",
   "execution_count": null,
   "id": "3d98f5e9",
   "metadata": {},
   "outputs": [],
   "source": []
  }
 ],
 "metadata": {
  "kernelspec": {
   "display_name": "Python 3 (ipykernel)",
   "language": "python",
   "name": "python3"
  },
  "language_info": {
   "codemirror_mode": {
    "name": "ipython",
    "version": 3
   },
   "file_extension": ".py",
   "mimetype": "text/x-python",
   "name": "python",
   "nbconvert_exporter": "python",
   "pygments_lexer": "ipython3",
   "version": "3.9.13"
  }
 },
 "nbformat": 4,
 "nbformat_minor": 5
}
