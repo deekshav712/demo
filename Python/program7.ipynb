{
 "cells": [
  {
   "cell_type": "code",
   "execution_count": 1,
   "id": "8ab5ce99",
   "metadata": {},
   "outputs": [
    {
     "data": {
      "image/png": "[encoded data removed]",
      "text/plain": [
       "<Figure size 432x288 with 1 Axes>"
      ]
     },
     "metadata": {
      "needs_background": "light"
     },
     "output_type": "display_data"
    }
   ],
   "source": [
    "from pandas import DataFrame\n",
    "import matplotlib.pyplot as plt\n",
    "data=[{8,9,3,4},{4,6,9,1},{7,4,1,3},{9,5,1,3},{7,1,3,9}]\n",
    "Index=['I1','I2','I3','I4','I5']\n",
    "Cols=['C1','C2','C3','C4']\n",
    "df=DataFrame(data,index=Index,columns=Cols)\n",
    "plt.pcolor(df)\n",
    "plt.show()"
   ]
  },
  {
   "cell_type": "code",
   "execution_count": 3,
   "id": "2e6a1069",
   "metadata": {},
   "outputs": [
    {
     "data": {
      "text/plain": [
       "[[230, 166, 227, 157, 195],\n",
       " [168, 198, 108, 121, 238],\n",
       " [112, 79, 115, 135, 11],\n",
       " [158, 122, 98, 145, 230],\n",
       " [248, 17, 208, 31, 227],\n",
       " [27, 176, 63, 253, 233]]"
      ]
     },
     "execution_count": 3,
     "metadata": {},
     "output_type": "execute_result"
    }
   ],
   "source": [
    "from matplotlib import pyplot\n",
    "import random\n",
    "data=[[random.randint(0,256)for x in range(0,5)],\n",
    "     [random.randint(0,256)for x in range(0,5)],\n",
    "     [random.randint(0,256)for x in range(0,5)],\n",
    "     [random.randint(0,256)for x in range(0,5)],\n",
    "     [random.randint(0,256)for x in range(0,5)],\n",
    "     [random.randint(0,256)for x in range(0,5)]]\n",
    "\n",
    "data"
   ]
  },
  {
   "cell_type": "code",
   "execution_count": 4,
   "id": "3b79ef9a",
   "metadata": {},
   "outputs": [
    {
     "data": {
      "text/plain": [
       "<matplotlib.image.AxesImage at 0x7fdfd3131970>"
      ]
     },
     "execution_count": 4,
     "metadata": {},
     "output_type": "execute_result"
    },
    {
     "data": {
      "image/png": "[encoded data removed]",
      "text/plain": [
       "<Figure size 360x360 with 1 Axes>"
      ]
     },
     "metadata": {
      "needs_background": "light"
     },
     "output_type": "display_data"
    }
   ],
   "source": [
    "from matplotlib import colors\n",
    "pyplot.figure(figsize=(5,5))\n",
    "pyplot.xlabel(\"x axis with ticks\",size=8)\n",
    "pyplot.ylabel(\"y axis with ticks\",size=8)\n",
    "pyplot.title(\"this is the title of the plot\",size=10)\n",
    "pyplot.xticks(size=14,color=\"red\")\n",
    "pyplot.yticks(size=14,color=\"red\")\n",
    "colormap = colors.ListedColormap([\"lightpink\",\"darkblue\"])\n",
    "pyplot.imshow(data,cmap=colormap)"
   ]
  },
  {
   "cell_type": "code",
   "execution_count": null,
   "id": "630744b2",
   "metadata": {},
   "outputs": [],
   "source": []
  }
 ],
 "metadata": {
  "kernelspec": {
   "display_name": "Python 3 (ipykernel)",
   "language": "python",
   "name": "python3"
  },
  "language_info": {
   "codemirror_mode": {
    "name": "ipython",
    "version": 3
   },
   "file_extension": ".py",
   "mimetype": "text/x-python",
   "name": "python",
   "nbconvert_exporter": "python",
   "pygments_lexer": "ipython3",
   "version": "3.9.7"
  }
 },
 "nbformat": 4,
 "nbformat_minor": 5
}
