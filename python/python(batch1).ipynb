{
 "cells": [
  {
   "cell_type": "code",
   "execution_count": 4,
   "id": "ea5dd71e",
   "metadata": {},
   "outputs": [
    {
     "name": "stdout",
     "output_type": "stream",
     "text": [
      "enter a hour40\n",
      "enter a rate10\n"
     ]
    }
   ],
   "source": [
    "\n",
    "\n",
    "h=float(input(\"enter a hour\"))\n",
    "r=float(input(\"enter a rate\"))\n",
    "\n",
    "\n",
    "def pay(h,r):\n",
    "    return h*r\n"
   ]
  },
  {
   "cell_type": "markdown",
   "id": "767cceb5",
   "metadata": {},
   "source": [
    "p=pay(h,r)\n",
    "print(p)"
   ]
  },
  {
   "cell_type": "code",
   "execution_count": 6,
   "id": "d9eb9b6d",
   "metadata": {},
   "outputs": [
    {
     "name": "stdout",
     "output_type": "stream",
     "text": [
      "enter a number\n",
      "10\n",
      "20\n",
      "the num is  1020\n"
     ]
    }
   ],
   "source": [
    "print(\"enter a number\")\n",
    "x=input()\n",
    "y=input()\n",
    "\n",
    "print(\"the num is \",x+y)"
   ]
  },
  {
   "cell_type": "code",
   "execution_count": 53,
   "id": "5e7b532b",
   "metadata": {},
   "outputs": [
    {
     "name": "stdout",
     "output_type": "stream",
     "text": [
      "456789\n",
      "23456789abcdef\n",
      "bcd\n",
      "3456\n",
      "2468\n",
      "02468\n",
      "210\n"
     ]
    }
   ],
   "source": [
    "string=\"0123456789abcdef\"\n",
    "print(string[4:10])\n",
    "\n",
    "string=\"0123456789abcdef\"\n",
    "print(string[2:])\n",
    "\n",
    "string=\"0123456789abcdef\"\n",
    "print(string[-5:-2])\n",
    "\n",
    "string=\"0123456789abcdef\"\n",
    "print(string[-13:7])\n",
    "\n",
    "string=\"0123456789\"\n",
    "print(string[2::2])\n",
    "\n",
    "string=\"0123456789\"\n",
    "print(string[-10::2])\n",
    "\n",
    "string=\"0123456789\"\n",
    "print(string[2::-1])"
   ]
  },
  {
   "cell_type": "code",
   "execution_count": 52,
   "id": "43e3337b",
   "metadata": {},
   "outputs": [
    {
     "name": "stdout",
     "output_type": "stream",
     "text": [
      "True\n",
      "False\n",
      "True\n",
      "True\n",
      "False\n",
      "True\n"
     ]
    }
   ],
   "source": [
    "#islower() : true only if all the alphabets are lowercase.\n",
    "string=\"thisthisthis\"\n",
    "print(string.islower())\n",
    "\n",
    "string=\"THIs\"\n",
    "print(string.islower())\n",
    "\n",
    "#isupper() : true only if all the alphabets are Uppercase.\n",
    "string=\"THIS\"\n",
    "print(string.isupper())\n",
    "\n",
    "#isalpha() : string containing only uppercase and lowercase alphabets without spaces(special characters)\n",
    "string=\"THISrfgrgswg\"\n",
    "print(string.isalpha())\n",
    "\n",
    "#isalpha() : string containing only uppercase and lowercase alphabets without spaces(special characters)\n",
    "string=\"THISr fgrgswg\"\n",
    "print(string.isalpha())\n",
    "\n",
    "#alnum() : string can contain alphabets as well as numbers\n",
    "string=\"THISrfgrgswg1234\"\n",
    "print(string.isalnum())"
   ]
  },
  {
   "cell_type": "code",
   "execution_count": 31,
   "id": "64790282",
   "metadata": {},
   "outputs": [
    {
     "name": "stdout",
     "output_type": "stream",
     "text": [
      "[123, 'this', 'string', 123.13]\n",
      "[123, 'this', 'string', '#', 123.13]\n",
      "[123, 'this', '#', 123.13, 'num']\n"
     ]
    }
   ],
   "source": [
    "\n",
    "#to insert the items by replacing the items\n",
    "list1 = [123,\"this\",'#',123.13]\n",
    "list1[2]=\"string\"\n",
    "print(list1)\n",
    "\n",
    "#to insert the value without removing items\n",
    "list1 = [123,\"this\",'#',123.13]\n",
    "list1.insert(2,\"string\")\n",
    "print(list1)\n",
    "\n",
    "#to insert the items at the end\n",
    "list1 = [123,\"this\",'#',123.13]\n",
    "list1.append(\"num\")\n",
    "print(list1)"
   ]
  },
  {
   "cell_type": "code",
   "execution_count": 35,
   "id": "eeeabf27",
   "metadata": {},
   "outputs": [
    {
     "name": "stdout",
     "output_type": "stream",
     "text": [
      "[1, 2, 3]\n",
      "[123, 'demo', 456, [1, 2, 3], 1, 2, 3, 4]\n"
     ]
    }
   ],
   "source": [
    "list1=[123,\"demo\",456,[1,2,3]]\n",
    "print(list1[3])\n",
    "\n",
    "#to include another list or array wihtin the 1 array\n",
    "list1=[123,\"demo\",456,[1,2,3]]\n",
    "list2=[1,2,3,4]\n",
    "list1.extend(list2)\n",
    "print(list1)"
   ]
  },
  {
   "cell_type": "code",
   "execution_count": 49,
   "id": "023825cc",
   "metadata": {},
   "outputs": [
    {
     "name": "stdout",
     "output_type": "stream",
     "text": [
      "demo\n",
      "demopro\n",
      "{'ex': 'demopro', 2: 'python', 3: 'lab', 4: 'mexico'}\n",
      "(1, 2, 'x', 12.4)\n",
      "('x', 12.4)\n",
      "(1, 2)\n",
      "(1, 2, 'x', 12.4)\n"
     ]
    }
   ],
   "source": [
    "#mydictionary: its a key value pair ,a value can be accessed by specifying a key\n",
    "\n",
    "mydictionary={1:\"demo\" ,2:\"python\" ,3:\"lab\"}\n",
    "print(mydictionary[1])\n",
    "\n",
    "mydictionary={\"ex\":\"demopro\" ,2:\"python\" ,3:\"lab\"}\n",
    "print(mydictionary[\"ex\"])\n",
    "\n",
    "#inserting a item\n",
    "mydictionary={\"ex\":\"demopro\" ,2:\"python\" ,3:\"lab\"}\n",
    "mydictionary[4]=\"mexico\"\n",
    "print(mydictionary)\n",
    "\n",
    "#tuples :same as list ,its immutable(cannot remove ,edit or add items into list)\n",
    "x=(1,2,\"x\",12.4)\n",
    "print(x)\n",
    "\n",
    "#slicing in tuples\n",
    "x=(1,2,\"x\",12.4)\n",
    "print(x[2:4])\n",
    "print(x[-4:2])\n",
    "print(x[-4:4])\n"
   ]
  },
  {
   "cell_type": "code",
   "execution_count": 67,
   "id": "9b1265e1",
   "metadata": {},
   "outputs": [
    {
     "name": "stdout",
     "output_type": "stream",
     "text": [
      "y is greater\n",
      "y is greater\n",
      "nice\n",
      "something\n"
     ]
    }
   ],
   "source": [
    "#if condition\n",
    "x=10\n",
    "y=20\n",
    "\n",
    "if x==y:\n",
    "    print(\"x is greater\")\n",
    "else:\n",
    " print(\"y is greater\")\n",
    "\n",
    "#if-elif condition\n",
    "x=10\n",
    "y=20\n",
    "\n",
    "if x>y:\n",
    "    print(\"x is greater\")\n",
    "elif x<y:\n",
    "    print(\"y is greater\")\n",
    "else:\n",
    " print(\"they are equal\")\n",
    "\n",
    "#if-elif condition(using two if condition)\n",
    "x=10\n",
    "y=10\n",
    "\n",
    "if x>y:\n",
    "    print(\"x is greater\")\n",
    "if x==y:\n",
    "    print(\"nice\")\n",
    "elif x<y:\n",
    "    print(\"y is greater\")\n",
    "else:\n",
    "     print(\"they are equal\")\n",
    "\n",
    "        \n",
    "x=10\n",
    "y=20\n",
    "\n",
    "if not(x>y):\n",
    " print(\"something\")"
   ]
  },
  {
   "cell_type": "code",
   "execution_count": null,
   "id": "233bae29",
   "metadata": {},
   "outputs": [],
   "source": []
  }
 ],
 "metadata": {
  "kernelspec": {
   "display_name": "Python 3 (ipykernel)",
   "language": "python",
   "name": "python3"
  },
  "language_info": {
   "codemirror_mode": {
    "name": "ipython",
    "version": 3
   },
   "file_extension": ".py",
   "mimetype": "text/x-python",
   "name": "python",
   "nbconvert_exporter": "python",
   "pygments_lexer": "ipython3",
   "version": "3.9.7"
  }
 },
 "nbformat": 4,
 "nbformat_minor": 5
}
