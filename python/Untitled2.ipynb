{
 "cells": [
  {
   "cell_type": "code",
   "execution_count": 1,
   "id": "8d1647b1",
   "metadata": {},
   "outputs": [],
   "source": [
    "import pandas as pd\n",
    "import io\n",
    "import numpy as np"
   ]
  },
  {
   "cell_type": "code",
   "execution_count": 3,
   "id": "71b28b7d",
   "metadata": {},
   "outputs": [],
   "source": [
    "data = pd.read_csv(\"student.csv\")"
   ]
  },
  {
   "cell_type": "code",
   "execution_count": 4,
   "id": "39f65367",
   "metadata": {},
   "outputs": [
    {
     "data": {
      "text/html": [
       "<div>\n",
       "<style scoped>\n",
       "    .dataframe tbody tr th:only-of-type {\n",
       "        vertical-align: middle;\n",
       "    }\n",
       "\n",
       "    .dataframe tbody tr th {\n",
       "        vertical-align: top;\n",
       "    }\n",
       "\n",
       "    .dataframe thead th {\n",
       "        text-align: right;\n",
       "    }\n",
       "</style>\n",
       "<table border=\"1\" class=\"dataframe\">\n",
       "  <thead>\n",
       "    <tr style=\"text-align: right;\">\n",
       "      <th></th>\n",
       "      <th>SI.NO</th>\n",
       "      <th>Name</th>\n",
       "      <th>Qualification</th>\n",
       "      <th>Mobile</th>\n",
       "      <th>Address</th>\n",
       "    </tr>\n",
       "  </thead>\n",
       "  <tbody>\n",
       "    <tr>\n",
       "      <th>0</th>\n",
       "      <td>1</td>\n",
       "      <td>navya</td>\n",
       "      <td>MCA</td>\n",
       "      <td>789654239</td>\n",
       "      <td>puttur</td>\n",
       "    </tr>\n",
       "    <tr>\n",
       "      <th>1</th>\n",
       "      <td>2</td>\n",
       "      <td>nikshitha</td>\n",
       "      <td>MCA</td>\n",
       "      <td>357892658</td>\n",
       "      <td>puttur</td>\n",
       "    </tr>\n",
       "    <tr>\n",
       "      <th>2</th>\n",
       "      <td>3</td>\n",
       "      <td>shrunga</td>\n",
       "      <td>MCA</td>\n",
       "      <td>567342980</td>\n",
       "      <td>Mysore</td>\n",
       "    </tr>\n",
       "    <tr>\n",
       "      <th>3</th>\n",
       "      <td>4</td>\n",
       "      <td>neha</td>\n",
       "      <td>MBA</td>\n",
       "      <td>4578643533</td>\n",
       "      <td>NaN</td>\n",
       "    </tr>\n",
       "    <tr>\n",
       "      <th>4</th>\n",
       "      <td>5</td>\n",
       "      <td>deeksha</td>\n",
       "      <td>NaN</td>\n",
       "      <td>1238905438</td>\n",
       "      <td>puttur</td>\n",
       "    </tr>\n",
       "    <tr>\n",
       "      <th>5</th>\n",
       "      <td>6</td>\n",
       "      <td>merolin</td>\n",
       "      <td>MCA</td>\n",
       "      <td>4567893456</td>\n",
       "      <td>puttur</td>\n",
       "    </tr>\n",
       "    <tr>\n",
       "      <th>6</th>\n",
       "      <td>7</td>\n",
       "      <td>manisha</td>\n",
       "      <td>MBA</td>\n",
       "      <td>3456784321</td>\n",
       "      <td>manglore</td>\n",
       "    </tr>\n",
       "    <tr>\n",
       "      <th>7</th>\n",
       "      <td>8</td>\n",
       "      <td>vridhi</td>\n",
       "      <td>MBA</td>\n",
       "      <td>3452347895</td>\n",
       "      <td>manglore</td>\n",
       "    </tr>\n",
       "    <tr>\n",
       "      <th>8</th>\n",
       "      <td>9</td>\n",
       "      <td>charithra</td>\n",
       "      <td>MCA</td>\n",
       "      <td>4356756789</td>\n",
       "      <td>puttur</td>\n",
       "    </tr>\n",
       "    <tr>\n",
       "      <th>9</th>\n",
       "      <td>10</td>\n",
       "      <td>shruthika</td>\n",
       "      <td>MCA</td>\n",
       "      <td>2349865422</td>\n",
       "      <td>puttur</td>\n",
       "    </tr>\n",
       "  </tbody>\n",
       "</table>\n",
       "</div>"
      ],
      "text/plain": [
       "   SI.NO       Name Qualification      Mobile   Address\n",
       "0      1      navya           MCA   789654239    puttur\n",
       "1      2  nikshitha           MCA   357892658    puttur\n",
       "2      3    shrunga           MCA   567342980    Mysore\n",
       "3      4       neha           MBA  4578643533       NaN\n",
       "4      5    deeksha           NaN  1238905438    puttur\n",
       "5      6    merolin           MCA  4567893456    puttur\n",
       "6      7    manisha           MBA  3456784321  manglore\n",
       "7      8     vridhi           MBA  3452347895  manglore\n",
       "8      9  charithra           MCA  4356756789    puttur\n",
       "9     10  shruthika           MCA  2349865422    puttur"
      ]
     },
     "execution_count": 4,
     "metadata": {},
     "output_type": "execute_result"
    }
   ],
   "source": [
    "data"
   ]
  },
  {
   "cell_type": "code",
   "execution_count": 5,
   "id": "491559d3",
   "metadata": {},
   "outputs": [
    {
     "data": {
      "text/html": [
       "<div>\n",
       "<style scoped>\n",
       "    .dataframe tbody tr th:only-of-type {\n",
       "        vertical-align: middle;\n",
       "    }\n",
       "\n",
       "    .dataframe tbody tr th {\n",
       "        vertical-align: top;\n",
       "    }\n",
       "\n",
       "    .dataframe thead th {\n",
       "        text-align: right;\n",
       "    }\n",
       "</style>\n",
       "<table border=\"1\" class=\"dataframe\">\n",
       "  <thead>\n",
       "    <tr style=\"text-align: right;\">\n",
       "      <th></th>\n",
       "      <th>SI.NO</th>\n",
       "      <th>Name</th>\n",
       "      <th>Qualification</th>\n",
       "      <th>Mobile</th>\n",
       "      <th>Address</th>\n",
       "    </tr>\n",
       "  </thead>\n",
       "  <tbody>\n",
       "    <tr>\n",
       "      <th>0</th>\n",
       "      <td>1</td>\n",
       "      <td>navya</td>\n",
       "      <td>MCA</td>\n",
       "      <td>789654239</td>\n",
       "      <td>puttur</td>\n",
       "    </tr>\n",
       "    <tr>\n",
       "      <th>1</th>\n",
       "      <td>2</td>\n",
       "      <td>nikshitha</td>\n",
       "      <td>MCA</td>\n",
       "      <td>357892658</td>\n",
       "      <td>puttur</td>\n",
       "    </tr>\n",
       "    <tr>\n",
       "      <th>2</th>\n",
       "      <td>3</td>\n",
       "      <td>shrunga</td>\n",
       "      <td>MCA</td>\n",
       "      <td>567342980</td>\n",
       "      <td>Mysore</td>\n",
       "    </tr>\n",
       "    <tr>\n",
       "      <th>3</th>\n",
       "      <td>4</td>\n",
       "      <td>neha</td>\n",
       "      <td>MBA</td>\n",
       "      <td>4578643533</td>\n",
       "      <td>NaN</td>\n",
       "    </tr>\n",
       "    <tr>\n",
       "      <th>4</th>\n",
       "      <td>5</td>\n",
       "      <td>deeksha</td>\n",
       "      <td>NaN</td>\n",
       "      <td>1238905438</td>\n",
       "      <td>puttur</td>\n",
       "    </tr>\n",
       "  </tbody>\n",
       "</table>\n",
       "</div>"
      ],
      "text/plain": [
       "   SI.NO       Name Qualification      Mobile Address\n",
       "0      1      navya           MCA   789654239  puttur\n",
       "1      2  nikshitha           MCA   357892658  puttur\n",
       "2      3    shrunga           MCA   567342980  Mysore\n",
       "3      4       neha           MBA  4578643533     NaN\n",
       "4      5    deeksha           NaN  1238905438  puttur"
      ]
     },
     "execution_count": 5,
     "metadata": {},
     "output_type": "execute_result"
    }
   ],
   "source": [
    "data.head(5)"
   ]
  },
  {
   "cell_type": "code",
   "execution_count": 9,
   "id": "7629d3da",
   "metadata": {},
   "outputs": [
    {
     "data": {
      "text/plain": [
       "SI.NO            0\n",
       "Name             0\n",
       "Qualification    1\n",
       "Mobile           0\n",
       "Address          1\n",
       "dtype: int64"
      ]
     },
     "execution_count": 9,
     "metadata": {},
     "output_type": "execute_result"
    }
   ],
   "source": [
    "data.isnull().sum()"
   ]
  },
  {
   "cell_type": "code",
   "execution_count": 16,
   "id": "715733da",
   "metadata": {},
   "outputs": [],
   "source": [
    "data[\"Qualification\"]=data[\"Qualification\"].fillna(\"MCA\")"
   ]
  },
  {
   "cell_type": "code",
   "execution_count": 17,
   "id": "d0d2e8cf",
   "metadata": {},
   "outputs": [
    {
     "data": {
      "text/html": [
       "<div>\n",
       "<style scoped>\n",
       "    .dataframe tbody tr th:only-of-type {\n",
       "        vertical-align: middle;\n",
       "    }\n",
       "\n",
       "    .dataframe tbody tr th {\n",
       "        vertical-align: top;\n",
       "    }\n",
       "\n",
       "    .dataframe thead th {\n",
       "        text-align: right;\n",
       "    }\n",
       "</style>\n",
       "<table border=\"1\" class=\"dataframe\">\n",
       "  <thead>\n",
       "    <tr style=\"text-align: right;\">\n",
       "      <th></th>\n",
       "      <th>SI.NO</th>\n",
       "      <th>Name</th>\n",
       "      <th>Qualification</th>\n",
       "      <th>Mobile</th>\n",
       "      <th>Address</th>\n",
       "    </tr>\n",
       "  </thead>\n",
       "  <tbody>\n",
       "    <tr>\n",
       "      <th>0</th>\n",
       "      <td>1</td>\n",
       "      <td>navya</td>\n",
       "      <td>MCA</td>\n",
       "      <td>789654239</td>\n",
       "      <td>puttur</td>\n",
       "    </tr>\n",
       "    <tr>\n",
       "      <th>1</th>\n",
       "      <td>2</td>\n",
       "      <td>nikshitha</td>\n",
       "      <td>MCA</td>\n",
       "      <td>357892658</td>\n",
       "      <td>puttur</td>\n",
       "    </tr>\n",
       "    <tr>\n",
       "      <th>2</th>\n",
       "      <td>3</td>\n",
       "      <td>shrunga</td>\n",
       "      <td>MCA</td>\n",
       "      <td>567342980</td>\n",
       "      <td>Mysore</td>\n",
       "    </tr>\n",
       "    <tr>\n",
       "      <th>3</th>\n",
       "      <td>4</td>\n",
       "      <td>neha</td>\n",
       "      <td>MBA</td>\n",
       "      <td>4578643533</td>\n",
       "      <td>NaN</td>\n",
       "    </tr>\n",
       "    <tr>\n",
       "      <th>4</th>\n",
       "      <td>5</td>\n",
       "      <td>deeksha</td>\n",
       "      <td>MCA</td>\n",
       "      <td>1238905438</td>\n",
       "      <td>puttur</td>\n",
       "    </tr>\n",
       "    <tr>\n",
       "      <th>5</th>\n",
       "      <td>6</td>\n",
       "      <td>merolin</td>\n",
       "      <td>MCA</td>\n",
       "      <td>4567893456</td>\n",
       "      <td>puttur</td>\n",
       "    </tr>\n",
       "    <tr>\n",
       "      <th>6</th>\n",
       "      <td>7</td>\n",
       "      <td>manisha</td>\n",
       "      <td>MBA</td>\n",
       "      <td>3456784321</td>\n",
       "      <td>manglore</td>\n",
       "    </tr>\n",
       "    <tr>\n",
       "      <th>7</th>\n",
       "      <td>8</td>\n",
       "      <td>vridhi</td>\n",
       "      <td>MBA</td>\n",
       "      <td>3452347895</td>\n",
       "      <td>manglore</td>\n",
       "    </tr>\n",
       "    <tr>\n",
       "      <th>8</th>\n",
       "      <td>9</td>\n",
       "      <td>charithra</td>\n",
       "      <td>MCA</td>\n",
       "      <td>4356756789</td>\n",
       "      <td>puttur</td>\n",
       "    </tr>\n",
       "    <tr>\n",
       "      <th>9</th>\n",
       "      <td>10</td>\n",
       "      <td>shruthika</td>\n",
       "      <td>MCA</td>\n",
       "      <td>2349865422</td>\n",
       "      <td>puttur</td>\n",
       "    </tr>\n",
       "  </tbody>\n",
       "</table>\n",
       "</div>"
      ],
      "text/plain": [
       "   SI.NO       Name Qualification      Mobile   Address\n",
       "0      1      navya           MCA   789654239    puttur\n",
       "1      2  nikshitha           MCA   357892658    puttur\n",
       "2      3    shrunga           MCA   567342980    Mysore\n",
       "3      4       neha           MBA  4578643533       NaN\n",
       "4      5    deeksha           MCA  1238905438    puttur\n",
       "5      6    merolin           MCA  4567893456    puttur\n",
       "6      7    manisha           MBA  3456784321  manglore\n",
       "7      8     vridhi           MBA  3452347895  manglore\n",
       "8      9  charithra           MCA  4356756789    puttur\n",
       "9     10  shruthika           MCA  2349865422    puttur"
      ]
     },
     "execution_count": 17,
     "metadata": {},
     "output_type": "execute_result"
    }
   ],
   "source": [
    "data"
   ]
  },
  {
   "cell_type": "code",
   "execution_count": 18,
   "id": "282a2461",
   "metadata": {},
   "outputs": [],
   "source": [
    "data[\"Address\"]=data[\"Address\"].fillna(\"puttur\")"
   ]
  },
  {
   "cell_type": "code",
   "execution_count": 19,
   "id": "6c79b4d9",
   "metadata": {},
   "outputs": [
    {
     "data": {
      "text/html": [
       "<div>\n",
       "<style scoped>\n",
       "    .dataframe tbody tr th:only-of-type {\n",
       "        vertical-align: middle;\n",
       "    }\n",
       "\n",
       "    .dataframe tbody tr th {\n",
       "        vertical-align: top;\n",
       "    }\n",
       "\n",
       "    .dataframe thead th {\n",
       "        text-align: right;\n",
       "    }\n",
       "</style>\n",
       "<table border=\"1\" class=\"dataframe\">\n",
       "  <thead>\n",
       "    <tr style=\"text-align: right;\">\n",
       "      <th></th>\n",
       "      <th>SI.NO</th>\n",
       "      <th>Name</th>\n",
       "      <th>Qualification</th>\n",
       "      <th>Mobile</th>\n",
       "      <th>Address</th>\n",
       "    </tr>\n",
       "  </thead>\n",
       "  <tbody>\n",
       "    <tr>\n",
       "      <th>0</th>\n",
       "      <td>1</td>\n",
       "      <td>navya</td>\n",
       "      <td>MCA</td>\n",
       "      <td>789654239</td>\n",
       "      <td>puttur</td>\n",
       "    </tr>\n",
       "    <tr>\n",
       "      <th>1</th>\n",
       "      <td>2</td>\n",
       "      <td>nikshitha</td>\n",
       "      <td>MCA</td>\n",
       "      <td>357892658</td>\n",
       "      <td>puttur</td>\n",
       "    </tr>\n",
       "    <tr>\n",
       "      <th>2</th>\n",
       "      <td>3</td>\n",
       "      <td>shrunga</td>\n",
       "      <td>MCA</td>\n",
       "      <td>567342980</td>\n",
       "      <td>Mysore</td>\n",
       "    </tr>\n",
       "    <tr>\n",
       "      <th>3</th>\n",
       "      <td>4</td>\n",
       "      <td>neha</td>\n",
       "      <td>MBA</td>\n",
       "      <td>4578643533</td>\n",
       "      <td>puttur</td>\n",
       "    </tr>\n",
       "    <tr>\n",
       "      <th>4</th>\n",
       "      <td>5</td>\n",
       "      <td>deeksha</td>\n",
       "      <td>MCA</td>\n",
       "      <td>1238905438</td>\n",
       "      <td>puttur</td>\n",
       "    </tr>\n",
       "    <tr>\n",
       "      <th>5</th>\n",
       "      <td>6</td>\n",
       "      <td>merolin</td>\n",
       "      <td>MCA</td>\n",
       "      <td>4567893456</td>\n",
       "      <td>puttur</td>\n",
       "    </tr>\n",
       "    <tr>\n",
       "      <th>6</th>\n",
       "      <td>7</td>\n",
       "      <td>manisha</td>\n",
       "      <td>MBA</td>\n",
       "      <td>3456784321</td>\n",
       "      <td>manglore</td>\n",
       "    </tr>\n",
       "    <tr>\n",
       "      <th>7</th>\n",
       "      <td>8</td>\n",
       "      <td>vridhi</td>\n",
       "      <td>MBA</td>\n",
       "      <td>3452347895</td>\n",
       "      <td>manglore</td>\n",
       "    </tr>\n",
       "    <tr>\n",
       "      <th>8</th>\n",
       "      <td>9</td>\n",
       "      <td>charithra</td>\n",
       "      <td>MCA</td>\n",
       "      <td>4356756789</td>\n",
       "      <td>puttur</td>\n",
       "    </tr>\n",
       "    <tr>\n",
       "      <th>9</th>\n",
       "      <td>10</td>\n",
       "      <td>shruthika</td>\n",
       "      <td>MCA</td>\n",
       "      <td>2349865422</td>\n",
       "      <td>puttur</td>\n",
       "    </tr>\n",
       "  </tbody>\n",
       "</table>\n",
       "</div>"
      ],
      "text/plain": [
       "   SI.NO       Name Qualification      Mobile   Address\n",
       "0      1      navya           MCA   789654239    puttur\n",
       "1      2  nikshitha           MCA   357892658    puttur\n",
       "2      3    shrunga           MCA   567342980    Mysore\n",
       "3      4       neha           MBA  4578643533    puttur\n",
       "4      5    deeksha           MCA  1238905438    puttur\n",
       "5      6    merolin           MCA  4567893456    puttur\n",
       "6      7    manisha           MBA  3456784321  manglore\n",
       "7      8     vridhi           MBA  3452347895  manglore\n",
       "8      9  charithra           MCA  4356756789    puttur\n",
       "9     10  shruthika           MCA  2349865422    puttur"
      ]
     },
     "execution_count": 19,
     "metadata": {},
     "output_type": "execute_result"
    }
   ],
   "source": [
    "data"
   ]
  },
  {
   "cell_type": "code",
   "execution_count": 20,
   "id": "c847dcff",
   "metadata": {},
   "outputs": [],
   "source": [
    "array=np.array([[1,1,1],[2,3,8],[3,5,27],])"
   ]
  },
  {
   "cell_type": "code",
   "execution_count": 21,
   "id": "a8e25af0",
   "metadata": {},
   "outputs": [],
   "source": [
    "index_values=['row1','row2','row3']"
   ]
  },
  {
   "cell_type": "code",
   "execution_count": 22,
   "id": "f70df182",
   "metadata": {},
   "outputs": [],
   "source": [
    "coulumn_values=['col1','col2','col3']"
   ]
  },
  {
   "cell_type": "code",
   "execution_count": 25,
   "id": "3616a388",
   "metadata": {},
   "outputs": [],
   "source": [
    "df = pd.DataFrame(data = array,index = index_values,columns = coulumn_values)"
   ]
  },
  {
   "cell_type": "code",
   "execution_count": 26,
   "id": "cc8d56c7",
   "metadata": {},
   "outputs": [
    {
     "name": "stdout",
     "output_type": "stream",
     "text": [
      "      col1  col2  col3\n",
      "row1     1     1     1\n",
      "row2     2     3     8\n",
      "row3     3     5    27\n"
     ]
    }
   ],
   "source": [
    "print(df)"
   ]
  },
  {
   "cell_type": "code",
   "execution_count": 27,
   "id": "77578c0d",
   "metadata": {},
   "outputs": [],
   "source": [
    "trace=np.trace(df)"
   ]
  },
  {
   "cell_type": "code",
   "execution_count": 28,
   "id": "e4480efe",
   "metadata": {},
   "outputs": [
    {
     "name": "stdout",
     "output_type": "stream",
     "text": [
      "Trace of matrix 31\n"
     ]
    }
   ],
   "source": [
    "print(\"Trace of matrix\",trace)"
   ]
  },
  {
   "cell_type": "code",
   "execution_count": 29,
   "id": "2488d188",
   "metadata": {},
   "outputs": [
    {
     "name": "stdout",
     "output_type": "stream",
     "text": [
      "      col1  col2  col3\n",
      "row1     1     1     1\n",
      "row2     2     3     8\n",
      "row3     3     5    27\n"
     ]
    }
   ],
   "source": [
    "print(df)"
   ]
  },
  {
   "cell_type": "code",
   "execution_count": null,
   "id": "809d6f3d",
   "metadata": {},
   "outputs": [],
   "source": []
  }
 ],
 "metadata": {
  "kernelspec": {
   "display_name": "Python 3 (ipykernel)",
   "language": "python",
   "name": "python3"
  },
  "language_info": {
   "codemirror_mode": {
    "name": "ipython",
    "version": 3
   },
   "file_extension": ".py",
   "mimetype": "text/x-python",
   "name": "python",
   "nbconvert_exporter": "python",
   "pygments_lexer": "ipython3",
   "version": "3.9.7"
  }
 },
 "nbformat": 4,
 "nbformat_minor": 5
}
